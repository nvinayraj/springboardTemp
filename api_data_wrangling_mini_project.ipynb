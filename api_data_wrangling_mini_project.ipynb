{
 "cells": [
  {
   "cell_type": "markdown",
   "metadata": {},
   "source": [
    "This exercise will require you to pull some data from the Qunadl API. Qaundl is currently the most widely used aggregator of financial market data."
   ]
  },
  {
   "cell_type": "markdown",
   "metadata": {},
   "source": [
    "As a first step, you will need to register a free account on the http://www.quandl.com website."
   ]
  },
  {
   "cell_type": "markdown",
   "metadata": {},
   "source": [
    "After you register, you will be provided with a unique API key, that you should store:"
   ]
  },
  {
   "cell_type": "code",
   "execution_count": null,
   "metadata": {
    "collapsed": true
   },
   "outputs": [],
   "source": [
    "# Store the API key as a string - according to PEP8, constants are always named in all upper case\n",
    "API_KEY = ''"
   ]
  },
  {
   "cell_type": "markdown",
   "metadata": {},
   "source": [
    "Qaundl has a large number of data sources, but, unfortunately, most of them require a Premium subscription. Still, there are also a good number of free datasets."
   ]
  },
  {
   "cell_type": "markdown",
   "metadata": {},
   "source": [
    "For this mini project, we will focus on equities data from the Frankfurt Stock Exhange (FSE), which is available for free. We'll try and analyze the stock prices of a company called Carl Zeiss Meditec, which manufactures tools for eye examinations, as well as medical lasers for laser eye surgery: https://www.zeiss.com/meditec/int/home.html. The company is listed under the stock ticker AFX_X."
   ]
  },
  {
   "cell_type": "markdown",
   "metadata": {},
   "source": [
    "You can find the detailed Quandl API instructions here: https://docs.quandl.com/docs/time-series"
   ]
  },
  {
   "cell_type": "markdown",
   "metadata": {},
   "source": [
    "While there is a dedicated Python package for connecting to the Quandl API, we would prefer that you use the *requests* package, which can be easily downloaded using *pip* or *conda*. You can find the documentation for the package here: http://docs.python-requests.org/en/master/ "
   ]
  },
  {
   "cell_type": "markdown",
   "metadata": {},
   "source": [
    "Finally, apart from the *requests* package, you are encouraged to not use any third party Python packages, such as *pandas*, and instead focus on what's available in the Python Standard Library (the *collections* module might come in handy: https://pymotw.com/3/collections/).\n",
    "Also, since you won't have access to DataFrames, you are encouraged to us Python's native data structures - preferably dictionaries, though some questions can also be answered using lists.\n",
    "You can read more on these data structures here: https://docs.python.org/3/tutorial/datastructures.html"
   ]
  },
  {
   "cell_type": "markdown",
   "metadata": {},
   "source": [
    "Keep in mind that the JSON responses you will be getting from the API map almost one-to-one to Python's dictionaries. Unfortunately, they can be very nested, so make sure you read up on indexing dictionaries in the documentation provided above."
   ]
  },
  {
   "cell_type": "code",
   "execution_count": 133,
   "metadata": {},
   "outputs": [],
   "source": [
    "# First, import the relevant modules\n",
    "import requests\n",
    "from collections import namedtuple, OrderedDict, Counter\n",
    "import pprint\n",
    "pp = pprint.PrettyPrinter(indent=2)"
   ]
  },
  {
   "cell_type": "code",
   "execution_count": 153,
   "metadata": {},
   "outputs": [],
   "source": [
    "#Question 1\n",
    "# Now, call the Quandl API and pull out a small sample of the data (only one day) to get a glimpse\n",
    "# into the JSON structure that will be returned\n",
    "#https://www.quandl.com/api/v3/datasets/WIKI/FB/data.json?api_key=<>\n",
    "r = requests.get('https://www.quandl.com/api/v3/datasets/WIKI/FB/data.json?start_date=2016-12-31&end_date=2018-01-01',auth = ('User','Key'))\n",
    "r_limit = requests.get('https://www.quandl.com/api/v3/datasets/WIKI/FB/data.json?limit=1',auth = ('User','Key'))"
   ]
  },
  {
   "cell_type": "code",
   "execution_count": 154,
   "metadata": {},
   "outputs": [
    {
     "name": "stdout",
     "output_type": "stream",
     "text": [
      "{ 'dataset_data': { 'collapse': None,\n",
      "                    'column_index': None,\n",
      "                    'column_names': [ 'Date',\n",
      "                                      'Open',\n",
      "                                      'High',\n",
      "                                      'Low',\n",
      "                                      'Close',\n",
      "                                      'Volume',\n",
      "                                      'Ex-Dividend',\n",
      "                                      'Split Ratio',\n",
      "                                      'Adj. Open',\n",
      "                                      'Adj. High',\n",
      "                                      'Adj. Low',\n",
      "                                      'Adj. Close',\n",
      "                                      'Adj. Volume'],\n",
      "                    'data': [ [ '2018-03-27',\n",
      "                                156.31,\n",
      "                                162.85,\n",
      "                                150.75,\n",
      "                                152.19,\n",
      "                                76787884.0,\n",
      "                                0.0,\n",
      "                                1.0,\n",
      "                                156.31,\n",
      "                                162.85,\n",
      "                                150.75,\n",
      "                                152.19,\n",
      "                                76787884.0]],\n",
      "                    'end_date': '2018-03-27',\n",
      "                    'frequency': 'daily',\n",
      "                    'limit': 1,\n",
      "                    'order': None,\n",
      "                    'start_date': '2012-05-18',\n",
      "                    'transform': None}}\n"
     ]
    }
   ],
   "source": [
    "# Inspect the JSON structure of the object you created, and take note of how nested it is,\n",
    "# as well as the overall structure\n",
    "json_data = r.json()\n",
    "json_limit = r_limit.json()\n",
    "pp.pprint(json_limit)"
   ]
  },
  {
   "cell_type": "code",
   "execution_count": 155,
   "metadata": {},
   "outputs": [
    {
     "name": "stdout",
     "output_type": "stream",
     "text": [
      "['Date', 'Open', 'High', 'Low', 'Close', 'Volume', 'Ex-Dividend', 'Split Ratio', 'Adj. Open', 'Adj. High', 'Adj. Low', 'Adj. Close', 'Adj. Volume']\n"
     ]
    }
   ],
   "source": [
    "print(json_data['dataset_data']['column_names'])"
   ]
  },
  {
   "cell_type": "code",
   "execution_count": 156,
   "metadata": {},
   "outputs": [],
   "source": [
    "#Question 2\n",
    "Tradeday = namedtuple('Tradeday', ['Date', 'Open', 'High', 'Low', 'Close', 'Volume', 'Ex_Dividend', \n",
    "                                   'Split_Ratio', 'Adj_Open', 'Adj_High', 'Adj_Low', 'Adj_Close', 'Adj_Volume'])\n",
    "\n",
    "data = {d[0] : Tradeday(*d) for d in json_data['dataset_data']['data']}"
   ]
  },
  {
   "cell_type": "code",
   "execution_count": 157,
   "metadata": {},
   "outputs": [
    {
     "name": "stdout",
     "output_type": "stream",
     "text": [
      "=>The high and low opening prices for this stock in 2017 were 183.51 and 116.03 respectively.\n"
     ]
    }
   ],
   "source": [
    "#Question 3\n",
    "high = max(v.Open for v in data.values() )\n",
    "low = min(v.Open for v in data.values())\n",
    "print('=>The high and low opening prices for this stock in 2017 were {:.2f} and {:.2f} '.format(high, low) + 'respectively.')"
   ]
  },
  {
   "cell_type": "code",
   "execution_count": 158,
   "metadata": {},
   "outputs": [
    {
     "name": "stdout",
     "output_type": "stream",
     "text": [
      "=>The maximum change in a day was 8.98 \n"
     ]
    }
   ],
   "source": [
    "#Question 4\n",
    "max_change_1day = max((v.High - v.Low) for v in data.values()) \n",
    "print('=>The maximum change in a day was {:.2f} ' .format(max_change_1day))"
   ]
  },
  {
   "cell_type": "code",
   "execution_count": 159,
   "metadata": {},
   "outputs": [
    {
     "name": "stdout",
     "output_type": "stream",
     "text": [
      "=>The largest consecutive intraday change in closing price was 7.67\n"
     ]
    }
   ],
   "source": [
    "#Question 5\n",
    "ord_dict = OrderedDict(data)\n",
    "ord_list = list(ord_dict.items())\n",
    "max_change_days = 0;\n",
    "\n",
    "for v in range(len(ord_list)-1):    \n",
    "    change = abs(ord_list[v][1].Close-ord_list[v+1][1].Close)\n",
    "    \n",
    "    if change > max_change_days:\n",
    "        max_change_days = change\n",
    "        \n",
    "print('=>The largest consecutive intraday change in closing price was {:.2f}'.format(max_change_days))"
   ]
  },
  {
   "cell_type": "code",
   "execution_count": 160,
   "metadata": {},
   "outputs": [
    {
     "name": "stdout",
     "output_type": "stream",
     "text": [
      "=>The average daily trading volume during the year 2017 was 16468073.86\n"
     ]
    }
   ],
   "source": [
    "#Question 6\n",
    "count = len(data.keys())\n",
    "sum_volume = 0\n",
    "for v in data.values():\n",
    "    sum_volume += v.Volume\n",
    "avg_volume = sum_volume / count\n",
    "\n",
    "print('=>The average daily trading volume during the year 2017 was {:.2f}'.format(avg_volume))"
   ]
  },
  {
   "cell_type": "markdown",
   "metadata": {},
   "source": [
    "These are your tasks for this mini project:\n",
    "\n",
    "1. Collect data from the Franfurt Stock Exchange, for the ticker AFX_X, for the whole year 2017 (keep in mind that the date format is YYYY-MM-DD).\n",
    "2. Convert the returned JSON object into a Python dictionary.\n",
    "3. Calculate what the highest and lowest opening prices were for the stock in this period.\n",
    "4. What was the largest change in any one day (based on High and Low price)?\n",
    "5. What was the largest change between any two days (based on Closing Price)?\n",
    "6. What was the average daily trading volume during this year?\n",
    "7. (Optional) What was the median trading volume during this year. (Note: you may need to implement your own function for calculating the median.)"
   ]
  }
 ],
 "metadata": {
  "kernelspec": {
   "display_name": "Python 3",
   "language": "python",
   "name": "python3"
  },
  "language_info": {
   "codemirror_mode": {
    "name": "ipython",
    "version": 3
   },
   "file_extension": ".py",
   "mimetype": "text/x-python",
   "name": "python",
   "nbconvert_exporter": "python",
   "pygments_lexer": "ipython3",
   "version": "3.6.5"
  }
 },
 "nbformat": 4,
 "nbformat_minor": 2
}
